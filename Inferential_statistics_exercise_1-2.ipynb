{
 "cells": [
  {
   "cell_type": "markdown",
   "metadata": {},
   "source": [
    "# What is the True Normal Human Body Temperature? \n",
    "\n",
    "#### Background\n",
    "\n",
    "The mean normal body temperature was held to be 37$^{\\circ}$C or 98.6$^{\\circ}$F for more than 120 years since it was first conceptualized and reported by Carl Wunderlich in a famous 1868 book. But, is this value statistically correct?"
   ]
  },
  {
   "cell_type": "markdown",
   "metadata": {},
   "source": [
    "<h3>Exercises</h3>\n",
    "\n",
    "<p>In this exercise, you will analyze a dataset of human body temperatures and employ the concepts of hypothesis testing, confidence intervals, and statistical significance.</p>\n",
    "\n",
    "<p>Answer the following questions <b>in this notebook below and submit to your Github account</b>.</p> \n",
    "\n",
    "<ol>\n",
    "<li>  Is the distribution of body temperatures normal? \n",
    "    <ul>\n",
    "    <li> Although this is not a requirement for CLT to hold (read CLT carefully), it gives us some peace of mind that the population may also be normally distributed if we assume that this sample is representative of the population.\n",
    "    </ul>\n",
    "<li>  Is the sample size large? Are the observations independent?\n",
    "    <ul>\n",
    "    <li> Remember that this is a condition for the CLT, and hence the statistical tests we are using, to apply.\n",
    "    </ul>\n",
    "<li>  Is the true population mean really 98.6 degrees F?\n",
    "    <ul>\n",
    "    <li> Would you use a one-sample or two-sample test? Why?\n",
    "    <li> In this situation, is it appropriate to use the $t$ or $z$ statistic? \n",
    "    <li> Now try using the other test. How is the result be different? Why?\n",
    "    </ul>\n",
    "<li>  Draw a small sample of size 10 from the data and repeat both tests. \n",
    "    <ul>\n",
    "    <li> Which one is the correct one to use? \n",
    "    <li> What do you notice? What does this tell you about the difference in application of the $t$ and $z$ statistic?\n",
    "    </ul>\n",
    "<li>  At what temperature should we consider someone's temperature to be \"abnormal\"?\n",
    "    <ul>\n",
    "    <li> Start by computing the margin of error and confidence interval.\n",
    "    </ul>\n",
    "<li>  Is there a significant difference between males and females in normal temperature?\n",
    "    <ul>\n",
    "    <li> What test did you use and why?\n",
    "    <li> Write a story with your conclusion in the context of the original problem.\n",
    "    </ul>\n",
    "</ol>\n",
    "\n",
    "You can include written notes in notebook cells using Markdown: \n",
    "   - In the control panel at the top, choose Cell > Cell Type > Markdown\n",
    "   - Markdown syntax: http://nestacms.com/docs/creating-content/markdown-cheat-sheet\n",
    "\n",
    "#### Resources\n",
    "\n",
    "+ Information and data sources: http://www.amstat.org/publications/jse/datasets/normtemp.txt, http://www.amstat.org/publications/jse/jse_data_archive.htm\n",
    "+ Markdown syntax: http://nestacms.com/docs/creating-content/markdown-cheat-sheet\n",
    "\n",
    "****"
   ]
  },
  {
   "cell_type": "code",
   "execution_count": 5,
   "metadata": {},
   "outputs": [],
   "source": [
    "import pandas as pd\n",
    "import numpy as np\n",
    "from scipy import stats\n",
    "import matplotlib.pyplot as plt\n",
    "import seaborn as sns\n",
    "\n",
    "df = pd.read_csv('human_body_temperature.csv')"
   ]
  },
  {
   "cell_type": "code",
   "execution_count": 6,
   "metadata": {},
   "outputs": [
    {
     "data": {
      "text/html": [
       "<div>\n",
       "<style>\n",
       "    .dataframe thead tr:only-child th {\n",
       "        text-align: right;\n",
       "    }\n",
       "\n",
       "    .dataframe thead th {\n",
       "        text-align: left;\n",
       "    }\n",
       "\n",
       "    .dataframe tbody tr th {\n",
       "        vertical-align: top;\n",
       "    }\n",
       "</style>\n",
       "<table border=\"1\" class=\"dataframe\">\n",
       "  <thead>\n",
       "    <tr style=\"text-align: right;\">\n",
       "      <th></th>\n",
       "      <th>temperature</th>\n",
       "      <th>gender</th>\n",
       "      <th>heart_rate</th>\n",
       "    </tr>\n",
       "  </thead>\n",
       "  <tbody>\n",
       "    <tr>\n",
       "      <th>0</th>\n",
       "      <td>99.3</td>\n",
       "      <td>F</td>\n",
       "      <td>68.0</td>\n",
       "    </tr>\n",
       "    <tr>\n",
       "      <th>1</th>\n",
       "      <td>98.4</td>\n",
       "      <td>F</td>\n",
       "      <td>81.0</td>\n",
       "    </tr>\n",
       "    <tr>\n",
       "      <th>2</th>\n",
       "      <td>97.8</td>\n",
       "      <td>M</td>\n",
       "      <td>73.0</td>\n",
       "    </tr>\n",
       "    <tr>\n",
       "      <th>3</th>\n",
       "      <td>99.2</td>\n",
       "      <td>F</td>\n",
       "      <td>66.0</td>\n",
       "    </tr>\n",
       "    <tr>\n",
       "      <th>4</th>\n",
       "      <td>98.0</td>\n",
       "      <td>F</td>\n",
       "      <td>73.0</td>\n",
       "    </tr>\n",
       "  </tbody>\n",
       "</table>\n",
       "</div>"
      ],
      "text/plain": [
       "   temperature gender  heart_rate\n",
       "0         99.3      F        68.0\n",
       "1         98.4      F        81.0\n",
       "2         97.8      M        73.0\n",
       "3         99.2      F        66.0\n",
       "4         98.0      F        73.0"
      ]
     },
     "execution_count": 6,
     "metadata": {},
     "output_type": "execute_result"
    }
   ],
   "source": [
    "df.head()"
   ]
  },
  {
   "cell_type": "code",
   "execution_count": 7,
   "metadata": {
    "scrolled": true
   },
   "outputs": [
    {
     "data": {
      "text/plain": [
       "count    130.000000\n",
       "mean      98.249231\n",
       "std        0.733183\n",
       "min       96.300000\n",
       "25%       97.800000\n",
       "50%       98.300000\n",
       "75%       98.700000\n",
       "max      100.800000\n",
       "Name: temperature, dtype: float64"
      ]
     },
     "execution_count": 7,
     "metadata": {},
     "output_type": "execute_result"
    }
   ],
   "source": [
    "df['temperature'].describe()"
   ]
  },
  {
   "cell_type": "markdown",
   "metadata": {},
   "source": [
    "Q1. Is the distribution of body temperatures normal?\n",
    "\n",
    "We can determine if the distribution of body temperatures are normal through vizualization and using a normal distribution test. "
   ]
  },
  {
   "cell_type": "code",
   "execution_count": 8,
   "metadata": {
    "scrolled": true
   },
   "outputs": [
    {
     "data": {
      "image/png": "[encoded data removed]",
      "text/plain": [
       "<matplotlib.figure.Figure at 0x115da4898>"
      ]
     },
     "metadata": {},
     "output_type": "display_data"
    }
   ],
   "source": [
    "# Plotting a distribution plot to test for symmetry\n",
    "temp = df['temperature']\n",
    "sns.distplot(temp, color='blue')\n",
    "plt.show()"
   ]
  },
  {
   "cell_type": "raw",
   "metadata": {},
   "source": [
    "In a normal distribution, points are as likely to occur on one side of the average as on the other. Although the the plot looks similar to the normal distribution (bell-shaped curve), we must use a normal distribution test to prove the body temperatures are normally distributed."
   ]
  },
  {
   "cell_type": "code",
   "execution_count": 9,
   "metadata": {},
   "outputs": [
    {
     "data": {
      "text/plain": [
       "NormaltestResult(statistic=2.7038014333192031, pvalue=0.2587479863488254)"
      ]
     },
     "execution_count": 9,
     "metadata": {},
     "output_type": "execute_result"
    }
   ],
   "source": [
    "# Test for normality on the distribution of body temperatures\n",
    "\n",
    "stats.mstats.normaltest(temp, axis=0)"
   ]
  },
  {
   "cell_type": "markdown",
   "metadata": {},
   "source": [
    "The p-value is a probability that measures the evidence against the null hypothesis. Lower probabilities provide stronger evidence against the null hypothesis.  To determine whether the data does not follow a normal distribution, compare the p-value to the significance level. Usually, a significance level (denoted as α or alpha) of 0.05 works well. A significance level of 0.05 indicates a 5% risk of concluding that the data does not follow a normal distribution when they actually do follow a normal distribution. \n",
    "\n",
    "P-value ≤ α: The data do not follow a normal distribution (Reject H0)\n",
    "P-value > α : Cannot conclude the data do not follow a normal distribution (Fail to reject H0)\n",
    "\n",
    "In the normal test result, the p-value is 0.259, which is greater than the significance level of 0.05. We cannot reject the null hypothesis: the body temperature is normally distributed.\n",
    "\n",
    "H0: μ = 98.6°F (average body temperature is 98.6)\n",
    "\n",
    "Ha: μ ≠ 98.6°F (average body temperature is not 98.6)"
   ]
  },
  {
   "cell_type": "code",
   "execution_count": 10,
   "metadata": {},
   "outputs": [
    {
     "name": "stdout",
     "output_type": "stream",
     "text": [
      "The null hypothesis cannot be rejected\n"
     ]
    }
   ],
   "source": [
    "p=0.2587479863488254\n",
    "alpha=0.05\n",
    "if p < alpha:  # null hypothesis: the body temperatures comes from a normal distribution\n",
    "    print(\"The null hypothesis can be rejected\")\n",
    "else:\n",
    "    print(\"The null hypothesis cannot be rejected\")\n"
   ]
  },
  {
   "cell_type": "markdown",
   "metadata": {},
   "source": [
    "Q2. Is the sample size large? \n",
    "\n",
    "10% Condition: When the sample is drawn without replacement (usually the case), the sample size, n, should be no more than 10% of the population.\n",
    "\n",
    "In general a sample size of 30 is considered sufficient if the sample is unimodal (and meets the 10% condition).Since, this is the case with our dataset, 130 is a large enough sample size."
   ]
  },
  {
   "cell_type": "code",
   "execution_count": 11,
   "metadata": {
    "scrolled": true
   },
   "outputs": [
    {
     "name": "stdout",
     "output_type": "stream",
     "text": [
      "130\n"
     ]
    }
   ],
   "source": [
    "# Sample size\n",
    "sample_size =len(df)\n",
    "print(sample_size)"
   ]
  },
  {
   "cell_type": "markdown",
   "metadata": {},
   "source": [
    "Q2. Are the observations independent?\n",
    "\n",
    "Yes, we can assume independence here since each row is a different measurement. "
   ]
  },
  {
   "cell_type": "markdown",
   "metadata": {},
   "source": [
    "Q3. Is the true population mean really 98.6 degrees F?\n",
    "\n",
    "We will use a one sample t-test to see if there is a significant difference between the population mean (98.6°F) and the sample mean (98.25°F). This is a two-sided test for the null hypothesis that the expected value (mean) of a sample of independent observations, temp, is equal to the given population mean, popmean. \n",
    "\n",
    "In the one sample t-test result below, we have a p-vale of 0.000000241. Since our p-value is less than 0.05, we can reject our null hypothesis with 95% confidence."
   ]
  },
  {
   "cell_type": "code",
   "execution_count": 12,
   "metadata": {},
   "outputs": [
    {
     "data": {
      "text/plain": [
       "Ttest_1sampResult(statistic=-5.4548232923645195, pvalue=2.4106320415561276e-07)"
      ]
     },
     "execution_count": 12,
     "metadata": {},
     "output_type": "execute_result"
    }
   ],
   "source": [
    "# Compute t-test\n",
    "popmean = 98.6\n",
    "stats.ttest_1samp(temp, popmean, axis=0)"
   ]
  },
  {
   "cell_type": "code",
   "execution_count": 13,
   "metadata": {},
   "outputs": [
    {
     "name": "stdout",
     "output_type": "stream",
     "text": [
      "z-test = -5.454823292364079\n",
      "p-value = 4.90215701411e-08\n"
     ]
    }
   ],
   "source": [
    "# Compute z-test to test for mean based on normal distribution. \n",
    "# In the case of two samples, the samples are assumed to be independent.\n",
    "sample_mean = df['temperature'].mean()\n",
    "sample_std = df['temperature'].std()\n",
    "\n",
    "z_test = (sample_mean - popmean)/(sample_std/(sample_size**(1/2)))\n",
    "print('z-test = ' + str(z_test))\n",
    "\n",
    "p_value = stats.norm.cdf(z_test)*2\n",
    "print('p-value = ' + str(p_value))"
   ]
  },
  {
   "cell_type": "markdown",
   "metadata": {},
   "source": [
    "The p-value is 0.00000049\n",
    "\n",
    "The result is significant at p < 0.05.\n",
    "\n",
    "Both t and z test yield the same results and can draw the same statistical inference that the average body temperature is not 98.6°F."
   ]
  },
  {
   "cell_type": "markdown",
   "metadata": {},
   "source": [
    "Q4. Draw a small sample of size 10 from the data and repeat test.\n",
    "Which one is the correct one to use? \n",
    "What do you notice? What does this tell you about the difference in application of the  t and z statistic?\n",
    "\n",
    "We can do this through Bootstrapping (rasampling an array)"
   ]
  },
  {
   "cell_type": "code",
   "execution_count": 18,
   "metadata": {
    "scrolled": false
   },
   "outputs": [
    {
     "name": "stdout",
     "output_type": "stream",
     "text": [
      "Mean = 98.49\n",
      "Median = 98.6\n",
      "Standard Deviation= 0.413400532172\n",
      "Ttest_1sampResult(statistic=-3.7442098476099357, pvalue=0.00027151268449662611)\n",
      "z-test = -0.0841437094411\n",
      "p-value = 0.932942172736\n"
     ]
    }
   ],
   "source": [
    "def bootstrap_replicate_1d(data, func):\n",
    "    \"\"\"Generate bootsrap replicate of 1D data\"\"\"\n",
    "    bs_sample = np.random.choice(data, len(data))\n",
    "    return func(bs_sample)\n",
    "\n",
    "bs_sample = np.random.choice(temp, size=10)\n",
    "\n",
    "bs_sample_mean= np.mean(bs_sample)\n",
    "bs_sample_median= np.median(bs_sample)\n",
    "bs_sample_std= np.std(bs_sample)\n",
    "\n",
    "print('Mean = ' + str(bs_sample_mean))\n",
    "print('Median = ' + str(bs_sample_median))\n",
    "print('Standard Deviation= ' + str(bs_sample_std))\n",
    "\n",
    "# T-test on the resampled data \n",
    "t_test = stats.ttest_1samp(temp, bs_sample_mean, axis=0)\n",
    "print(t_test)\n",
    "\n",
    "# Z-test on the resampled data \n",
    "z_test = (bs_sample_mean - popmean)/(bs_sample_std)/(10**(1/2))\n",
    "print('z-test = ' + str(z_test))\n",
    "\n",
    "p_value = stats.norm.cdf(z_test)*2\n",
    "print('p-value = ' + str(p_value))"
   ]
  },
  {
   "cell_type": "markdown",
   "metadata": {},
   "source": [
    "The p-value for the z-test is 0.933.\n",
    "\n",
    "The result is not significant at p < 0.05.\n",
    "\n",
    "After taking the t and z test from the resampled data with sample size of 10, we fail to reject the null hypothesis in this case since the p-value is greater than the signifcance level at 0.05. "
   ]
  },
  {
   "cell_type": "code",
   "execution_count": 15,
   "metadata": {},
   "outputs": [
    {
     "name": "stdout",
     "output_type": "stream",
     "text": [
      "Standard Error of Mean = 0.0640566146952\n",
      "Standard Deviation of Bootstrap Replicates = 0.063275466902\n"
     ]
    },
    {
     "data": {
      "image/png": "[encoded data removed]",
      "text/plain": [
       "<matplotlib.figure.Figure at 0x119200a58>"
      ]
     },
     "metadata": {},
     "output_type": "display_data"
    }
   ],
   "source": [
    "# Boostrap replicate function\n",
    "def draw_bs_reps(data, func, size=1):\n",
    "    \"\"\"Draw boostrap replicates.\"\"\"\n",
    "    \n",
    "    # Initialize array of replicates\n",
    "    bs_replicates = np.empty(size)\n",
    "    \n",
    "    # Generate replicates\n",
    "    for i in range(size):\n",
    "        bs_replicates[i]= bootstrap_replicate_1d(temp, np.mean)\n",
    "        \n",
    "    return bs_replicates\n",
    "\n",
    "# Take 10000 bootstrap replicates of the mean\n",
    "bs_replicates = draw_bs_reps(temp, np.mean, 10000)\n",
    "\n",
    "# Compute and print Standard Error of Mean (SEM)\n",
    "sem = np.std(temp)/np.sqrt(len(temp))\n",
    "print('Standard Error of Mean = ' + str(sem))\n",
    "\n",
    "# Compute and print standard deviation of bootstrap replicates\n",
    "bs_std = np.std(bs_replicates)\n",
    "print('Standard Deviation of Bootstrap Replicates = ' + str(bs_std))\n",
    "\n",
    "# Plotting a histogram of boostrap replicates\n",
    "_ = plt.hist(bs_replicates, normed=True)\n",
    "_ = plt.xlabel('Mean of Body Temperature (Degrees F)')\n",
    "_ = plt.ylabel('PDF')\n",
    "plt.show()"
   ]
  },
  {
   "cell_type": "markdown",
   "metadata": {},
   "source": [
    "I notice that the SEM and standard deviation of bootstrap replicates is the same and the distribution of the boostrap replicates of the mean is normal."
   ]
  },
  {
   "cell_type": "markdown",
   "metadata": {},
   "source": [
    " Q5. At what temperature should we consider someone's temperature to be \"abnormal\"?"
   ]
  },
  {
   "cell_type": "code",
   "execution_count": 16,
   "metadata": {},
   "outputs": [
    {
     "name": "stdout",
     "output_type": "stream",
     "text": [
      "[ 98.12692308  98.37384615]\n"
     ]
    }
   ],
   "source": [
    "#Compute the 95% Confidence Interval\n",
    "Conf_int = np.percentile(bs_replicates, [2.5, 97.5])\n",
    "print(Conf_int)"
   ]
  },
  {
   "cell_type": "markdown",
   "metadata": {},
   "source": [
    "We are 95% confident that the human body temperature is between 98.12 to 98.38°F \n",
    "Anything outside this range is considered to be an \"abnormal\" body temperature."
   ]
  },
  {
   "cell_type": "markdown",
   "metadata": {},
   "source": [
    "Q6. Is there a significant difference between males and females in normal temperature?\n",
    "\n",
    "We can use a two sample t-test to determine if there is a difference between male and female normal tempertures. \n",
    "\n",
    "H0: There is no difference between male and female normal temperatures\n",
    "\n",
    "Ha: There is significant different between male and female normal temperatures\n",
    "\n",
    "There is a slight difference between the mean temperatures of males and females in the sample. Is this difference statistically significant? We use a 2-sample t-test and get a t-statistic, t= 2.29 with a p-value of 0.024.  Sine 0.024 < 0.05, we reject the null hypothesis of equal body temperatures."
   ]
  },
  {
   "cell_type": "code",
   "execution_count": 17,
   "metadata": {},
   "outputs": [
    {
     "name": "stdout",
     "output_type": "stream",
     "text": [
      "Average female body temperature = 98.39384615384613\n",
      "Average male body temperature = 98.1046153846154\n"
     ]
    },
    {
     "data": {
      "text/plain": [
       "Ttest_indResult(statistic=2.2854345381656103, pvalue=0.023931883122395609)"
      ]
     },
     "execution_count": 17,
     "metadata": {},
     "output_type": "execute_result"
    }
   ],
   "source": [
    "# Find the mean of female and male temperatures \n",
    "female_temp = df.temperature[df.gender == \"F\"]\n",
    "male_temp = df.temperature[df.gender == \"M\"]\n",
    "mean_female_temp = np.mean(female_temp)\n",
    "mean_male_temp = np.mean(male_temp)\n",
    "print('Average female body temperature = ' + str(mean_female_temp))\n",
    "print('Average male body temperature = ' + str(mean_male_temp))\n",
    "\n",
    "# Compute independent t-test \n",
    "stats.ttest_ind(female_temp, male_temp, axis=0)"
   ]
  },
  {
   "cell_type": "markdown",
   "metadata": {},
   "source": [
    "Summary and conclusion:  \n",
    "\n",
    "For many years we have accepted the average human body temperature to be 98.6°F. To see if the true population mean is in fact 98.6°F we examine the measured body temperatures of n=130 adults (half male and half female), along with his or her heart rate. Through descriptive statistics we found the average temperature from the sample to be 98.25°F with a standard deviation of 0.73°F. We want to determine if the data contradicts the hypothesis that the average body temperature is 98.6°F. The alternative hypothesis, denoted Ha, is set up to represent our goal: μ ≠ 98.6°F (average body temperature is not 98.6°F). \n",
    "\n",
    "Since many statistical tests rely on the normality of a sample or population, it is often useful to test whether the underlying distribution is normal, or at least symmetrical. We use the p-value to determine whether the data does not follow a normal distribution. After visualizing our data, we use a normal distribution test and received a p-value of 0.259. Since 0.259 > 0.05, we fail to reject the null hypothesis because there is not enough evidence to conclude that our data does not follow a normal distribution which is greater than the significance level of 0.05. We must also test if the temperatures and heart rate are independent of each other. We can test if the two variables are independent of each other by calculating Pearson Correlation. We can also visualize the correlation through a scatter plot. The correlation coefficient, r= 0.25, shows a weak correlation. We conclude there is no correlation between body temperature and heart rate, which may be claimed because the correlation coefficient is significant (p-value= 0.00359).\n",
    "\n",
    "Provided that our data are from a normal distribution and are independent of each other, we use a one sample (two-sided) t-test to compare the observed sample mean(98.25°F) to the hypothesized value(98.6°F). The test statistic \n",
    "t= -5.45 and p-value= 0.000000241. Since our p-value is less than 0.05, we can reject our null hypothesis with 95% confidence. There is only a 5% probability of incorrectly rejecting the null hypothesis. We conclude that the average body temperature differs from 98.6°F. \n",
    "\n",
    "We can repeat the same test over and over by computing a boostrap replicate. To start, we resample the data and choose a sample size of 10. With the resampled data, we can compute the mean, median, and standard deviation. Mean = 98.28, Median = 98.25, Standard Deviation= 0.389358446679. Compared to the original data, the mean differs by 0.03, the median differs by 0.05, and the standard deviation differs by 0.34. Let's see the difference when we increase the sample size to 10,000. After taking 10,000 bootstrap replicates of the mean, I computed the Standard Error of the Mean (SEM) and Standard deviation of the boostrap replicates. I found that the standard deviation of the 10,000 means is 0.064, which is also the same value for the bootstrapped SEM(0.064). The histogram of boostrap replicates also shows the mean is normally distributed.\n",
    "\n",
    "We can use NumPy percentile function to find the confidence interval of 10,000 boostrap replicates of the mean. The 95% CI= [ 98.12151923  98.37615385], which means we are 95% confident that the mean body temperature for ALL people is between 98.12 and 98.38°F. The assumed normal body temperature of 98.6°F is not within the 95% confidence interval for the mean.\n",
    "\n",
    "To dive deeper into analysis, we can test to see if there is a significant difference between male and female normal temperatures. First we can take the mean of the 65 males and 65 females. The average male temperature is 98.105°F and the average female temperature is 98.394°F. There is a small difference between the two, but is this statistically significant?\n",
    "\n",
    "We can use a two sample t-test to determine if there is a difference between male and female normal tempertures. \n",
    "\n",
    "H0: There is no difference between male and female normal temperatures\n",
    "Ha: There is significant different between male and female normal temperatures\n",
    "\n",
    "The p-value from the t-test is equal to 0.024. Since 0.024 < 0.05, we reject the null hypothesis that there is no difference betweeen male and female tempertaures.  We are 95% confident that there is a significant different between male and female normal temperatures. On average, women have a higher body temperature than men.  "
   ]
  }
 ],
 "metadata": {
  "kernelspec": {
   "display_name": "Python 3",
   "language": "python",
   "name": "python3"
  },
  "language_info": {
   "codemirror_mode": {
    "name": "ipython",
    "version": 3
   },
   "file_extension": ".py",
   "mimetype": "text/x-python",
   "name": "python",
   "nbconvert_exporter": "python",
   "pygments_lexer": "ipython3",
   "version": "3.6.1"
  }
 },
 "nbformat": 4,
 "nbformat_minor": 1
}
